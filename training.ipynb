{
 "cells": [
  {
   "cell_type": "markdown",
   "metadata": {},
   "source": [
    "## Loading Dependency"
   ]
  },
  {
   "cell_type": "code",
   "execution_count": 1,
   "metadata": {},
   "outputs": [
    {
     "data": {
      "text/plain": [
       "'12.4'"
      ]
     },
     "execution_count": 1,
     "metadata": {},
     "output_type": "execute_result"
    }
   ],
   "source": [
    "import numpy as np\n",
    "import soundfile as sf\n",
    "import pandas as pd\n",
    "import scipy as sp\n",
    "import os\n",
    "import librosa\n",
    "import torch\n",
    "import torch.version\n",
    "torch.cuda.is_available()\n",
    "torch.version.cuda"
   ]
  },
  {
   "cell_type": "markdown",
   "metadata": {},
   "source": [
    "## Loading Data\n"
   ]
  },
  {
   "cell_type": "code",
   "execution_count": 2,
   "metadata": {},
   "outputs": [
    {
     "name": "stdout",
     "output_type": "stream",
     "text": [
      "330\n",
      "330\n",
      "16000\n"
     ]
    }
   ],
   "source": [
    "def data_loader(path):\n",
    "    \"\"\"\n",
    "        Loading data from the dataset. \n",
    "        returns:\n",
    "            data: list of audio files as numpy arrays\n",
    "            labels: list of labels for each audio file\n",
    "            sr: sample rate of the audio files\n",
    "    \"\"\"\n",
    "\n",
    "\n",
    "    # Load the data\n",
    "    data = [sf.read(path + p)[0] for p in os.listdir(path) if p.endswith('.mp3')]\n",
    "    # Load the labels\n",
    "    labels = [p.split('_')[-1][:-4:1] for p in os.listdir(path) if p.endswith('.mp3')]\n",
    "\n",
    "    sr = sf.read(path + os.listdir(path)[0])[1]\n",
    "\n",
    "    return data, labels ,sr\n",
    "\n",
    "train_data, train_labels , sr = data_loader('data/train/')\n",
    "\n",
    "print(len(train_data))\n",
    "print(len(train_labels))\n",
    "print(sr)"
   ]
  },
  {
   "cell_type": "code",
   "execution_count": null,
   "metadata": {},
   "outputs": [],
   "source": []
  },
  {
   "cell_type": "code",
   "execution_count": null,
   "metadata": {},
   "outputs": [],
   "source": []
  },
  {
   "cell_type": "code",
   "execution_count": 3,
   "metadata": {},
   "outputs": [
    {
     "name": "stdout",
     "output_type": "stream",
     "text": [
      "Cuda Available.\n"
     ]
    }
   ],
   "source": [
    "# Loading exmaple audio file \n",
    "\n",
    "from hmm import HMM\n",
    "training_data_example = train_data[0]\n",
    "\n",
    "\n",
    "# 8 state, 13 dimension\n",
    "hhm_model = HMM(8,13)\n",
    "\n"
   ]
  },
  {
   "cell_type": "code",
   "execution_count": 4,
   "metadata": {},
   "outputs": [],
   "source": [
    "encoded_data , tau = hhm_model.encode(training_data_example)\n"
   ]
  },
  {
   "cell_type": "code",
   "execution_count": 5,
   "metadata": {},
   "outputs": [
    {
     "name": "stderr",
     "output_type": "stream",
     "text": [
      "100%|██████████| 100/100 [00:00<00:00, 11240.26it/s]\n"
     ]
    }
   ],
   "source": [
    "hhm_model.train(training_data_example)"
   ]
  },
  {
   "cell_type": "code",
   "execution_count": 6,
   "metadata": {},
   "outputs": [
    {
     "name": "stdout",
     "output_type": "stream",
     "text": [
      "tensor([[       -inf,  0.0000e+00,        -inf,        -inf,        -inf,\n",
      "                -inf,        -inf,        -inf],\n",
      "        [       -inf, -2.0877e-03, -6.1727e+00,        -inf,        -inf,\n",
      "                -inf,        -inf,        -inf],\n",
      "        [       -inf,        -inf, -2.0877e-03, -6.1727e+00,        -inf,\n",
      "                -inf,        -inf,        -inf],\n",
      "        [       -inf,        -inf,        -inf, -2.0877e-03, -6.1727e+00,\n",
      "                -inf,        -inf,        -inf],\n",
      "        [       -inf,        -inf,        -inf,        -inf, -2.0877e-03,\n",
      "         -6.1727e+00,        -inf,        -inf],\n",
      "        [       -inf,        -inf,        -inf,        -inf,        -inf,\n",
      "         -2.0877e-03, -6.1727e+00,        -inf],\n",
      "        [       -inf,        -inf,        -inf,        -inf,        -inf,\n",
      "                -inf, -2.0877e-03, -6.1727e+00],\n",
      "        [       -inf,        -inf,        -inf,        -inf,        -inf,\n",
      "                -inf,        -inf,  0.0000e+00]])\n"
     ]
    }
   ],
   "source": [
    "print(hhm_model.transition_model)"
   ]
  },
  {
   "cell_type": "code",
   "execution_count": 7,
   "metadata": {},
   "outputs": [
    {
     "name": "stdout",
     "output_type": "stream",
     "text": [
      "tensor([[21705.4313,     0.0000,     0.0000,     0.0000,    -0.0000,     0.0000,\n",
      "             0.0000,     0.0000,    -0.0000,     0.0000,    -0.0000,    -0.0000,\n",
      "            -0.0000],\n",
      "        [    0.0000,  2474.0738,     0.0000,     0.0000,     0.0000,     0.0000,\n",
      "             0.0000,     0.0000,    -0.0000,    -0.0000,    -0.0000,    -0.0000,\n",
      "            -0.0000],\n",
      "        [    0.0000,     0.0000,   590.2590,     0.0000,     0.0000,     0.0000,\n",
      "             0.0000,    -0.0000,    -0.0000,    -0.0000,    -0.0000,    -0.0000,\n",
      "            -0.0000],\n",
      "        [    0.0000,     0.0000,     0.0000,  1198.6880,     0.0000,     0.0000,\n",
      "             0.0000,    -0.0000,    -0.0000,    -0.0000,    -0.0000,    -0.0000,\n",
      "            -0.0000],\n",
      "        [   -0.0000,     0.0000,     0.0000,     0.0000,   192.8479,     0.0000,\n",
      "             0.0000,    -0.0000,    -0.0000,    -0.0000,    -0.0000,    -0.0000,\n",
      "             0.0000],\n",
      "        [    0.0000,     0.0000,     0.0000,     0.0000,     0.0000,    67.1927,\n",
      "             0.0000,     0.0000,    -0.0000,    -0.0000,    -0.0000,    -0.0000,\n",
      "            -0.0000],\n",
      "        [    0.0000,     0.0000,     0.0000,     0.0000,     0.0000,     0.0000,\n",
      "           202.5292,    -0.0000,    -0.0000,    -0.0000,    -0.0000,    -0.0000,\n",
      "            -0.0000],\n",
      "        [    0.0000,     0.0000,    -0.0000,    -0.0000,    -0.0000,     0.0000,\n",
      "            -0.0000,    66.7873,     0.0000,     0.0000,    -0.0000,     0.0000,\n",
      "             0.0000],\n",
      "        [   -0.0000,    -0.0000,    -0.0000,    -0.0000,    -0.0000,    -0.0000,\n",
      "            -0.0000,     0.0000,   157.3254,    -0.0000,     0.0000,     0.0000,\n",
      "             0.0000],\n",
      "        [    0.0000,    -0.0000,    -0.0000,    -0.0000,    -0.0000,    -0.0000,\n",
      "            -0.0000,     0.0000,    -0.0000,    67.9779,     0.0000,     0.0000,\n",
      "             0.0000],\n",
      "        [   -0.0000,    -0.0000,    -0.0000,    -0.0000,    -0.0000,    -0.0000,\n",
      "            -0.0000,    -0.0000,     0.0000,     0.0000,    56.9664,     0.0000,\n",
      "             0.0000],\n",
      "        [   -0.0000,    -0.0000,    -0.0000,    -0.0000,    -0.0000,    -0.0000,\n",
      "            -0.0000,     0.0000,     0.0000,     0.0000,     0.0000,    93.2329,\n",
      "             0.0000],\n",
      "        [   -0.0000,    -0.0000,    -0.0000,    -0.0000,     0.0000,    -0.0000,\n",
      "            -0.0000,     0.0000,     0.0000,     0.0000,     0.0000,     0.0000,\n",
      "            80.1691]], device='cuda:0', dtype=torch.float64)\n"
     ]
    }
   ],
   "source": [
    "# print(hhm_model.initial_state)\n",
    "print(hhm_model.emission_model.gaussians[0].covariance_matrix)"
   ]
  },
  {
   "cell_type": "code",
   "execution_count": 8,
   "metadata": {},
   "outputs": [
    {
     "ename": "NameError",
     "evalue": "name 'encoded_train_data' is not defined",
     "output_type": "error",
     "traceback": [
      "\u001b[1;31m---------------------------------------------------------------------------\u001b[0m",
      "\u001b[1;31mNameError\u001b[0m                                 Traceback (most recent call last)",
      "Cell \u001b[1;32mIn[8], line 1\u001b[0m\n\u001b[1;32m----> 1\u001b[0m encoded_train_data[\u001b[38;5;241m0\u001b[39m]\u001b[38;5;241m.\u001b[39mshape\n",
      "\u001b[1;31mNameError\u001b[0m: name 'encoded_train_data' is not defined"
     ]
    }
   ],
   "source": [
    "encoded_train_data[0].shape\n"
   ]
  },
  {
   "cell_type": "markdown",
   "metadata": {},
   "source": [
    "## HMM Model"
   ]
  },
  {
   "cell_type": "code",
   "execution_count": null,
   "metadata": {},
   "outputs": [],
   "source": [
    "import torch\n",
    "\n",
    "class HMM(torch.nn.Module ):\n",
    "    \"\"\"\n",
    "    Hidden Markov Model with discrete transition probability\n",
    "    and multivariate Gaussian Emission Probabilities.\n",
    "    \"\"\"\n",
    "    def __init__(self, n_states,n_features):\n",
    "        super(HMM, self).__init__()\n",
    "        # Number of states\n",
    "        self.n_states = n_states\n",
    "        # number of features\n",
    "        self.n_features = n_features\n",
    "\n",
    "        # Transition model in log space\n",
    "        self.transition_model = torch.nn.Parameter(torch.rand(n_states, n_states))\n",
    "        \n",
    "        # Emission model\n",
    "        self.emoission_model = EmissionModel(n_states,n_features)\n",
    "\n",
    "        # Initial state\n",
    "        self.initial_state = torch.nn.Parameter(torch.rand(n_states))\n",
    "\n",
    "        \n",
    "        self.cuda_available = torch.cuda.is_available()\n",
    "        if self.cuda_available:\n",
    "            self.device = torch.device('cuda')\n",
    "            self.cuda()  \n",
    "\n",
    "\n",
    "    def encode(self, data ,sr = 16000 , frame_length = 30, hop_length = 10):\n",
    "        \"\"\"\n",
    "            Encode the data using librosa\n",
    "            params:\n",
    "                data: list of one audio file as numpy arrays\n",
    "                sr: sample rate of the audio files, detault 16000\n",
    "                frame_length: length of the frame in milliseconds  \n",
    "                hop_length: hop length in milliseconds\n",
    "\n",
    "            returns:\n",
    "                encoded_data: list of encoded data as T x n_features matrix\n",
    "                tau : length of the frame in samples\n",
    "        \"\"\"\n",
    "        n_fft = int(sr * frame_length / 1000)\n",
    "        hop_length = int(sr * hop_length / 1000)\n",
    "\n",
    "        encoded_data = librosa.feature.mfcc(y=data, sr=sr,n_fft=n_fft,hop_length=hop_length,n_mfcc=self.n_features) \n",
    "\n",
    "        tau = n_fft\n",
    "        \n",
    "        return encoded_data.T , tau\n",
    "\n",
    "    \n",
    "    def train(self, data, n_iter = 100):\n",
    "        \"\"\"\n",
    "            Train the HMM model using Expectation Maximization\n",
    "            i.e. the Baum-Welch algorithm.\n",
    "            params:\n",
    "                data: audio files as numpy array\n",
    "                n_iter: number of EM iterations for training\n",
    "        \"\"\"\n",
    "\n",
    "        # Perform MFCC encoding\n",
    "        data , tau = self.encode(data)\n",
    "\n",
    "        T , n_features_data = data.shape\n",
    "\n",
    "        assert n_features_data == self.n_features\n",
    "\n",
    "        # Send data to GPU if available\n",
    "        if self.cuda_available:\n",
    "            data = torch.tensor(data).to(self.device)\n",
    "\n",
    "        # Initialize the model\n",
    "        self.initialize_initial_state()\n",
    "\n",
    "        # Initialize the transition model\n",
    "        self.initialize_transition_model()\n",
    "\n",
    "        # Initialize the emission model\n",
    "        self.initialize_emission_model()\n",
    "\n",
    "        for i in range(n_iter):\n",
    "            for x in data:\n",
    "                pass\n",
    "\n",
    "\n",
    "class EmissionModel(torch.nn.Module):\n",
    "    \"\"\"Emmision model for the HMM\"\"\"\n",
    "    def __init__(self,n_states,n_features):\n",
    "        super(EmissionModel, self).__init__()\n",
    "        self.n_states = n_states\n",
    "        self.n_features = n_features\n",
    "\n",
    "        self.gaussians = [torch.distributions.MultivariateNormal(torch.rand(n_features),torch.rand(n_features,n_features)) for i in range(n_states)]"
   ]
  },
  {
   "cell_type": "code",
   "execution_count": null,
   "metadata": {},
   "outputs": [],
   "source": []
  },
  {
   "cell_type": "code",
   "execution_count": null,
   "metadata": {},
   "outputs": [],
   "source": [
    "\n"
   ]
  }
 ],
 "metadata": {
  "kernelspec": {
   "display_name": "base",
   "language": "python",
   "name": "python3"
  },
  "language_info": {
   "codemirror_mode": {
    "name": "ipython",
    "version": 3
   },
   "file_extension": ".py",
   "mimetype": "text/x-python",
   "name": "python",
   "nbconvert_exporter": "python",
   "pygments_lexer": "ipython3",
   "version": "3.12.3"
  }
 },
 "nbformat": 4,
 "nbformat_minor": 2
}
